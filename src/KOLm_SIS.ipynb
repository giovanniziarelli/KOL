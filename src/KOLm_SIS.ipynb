{
  "cells": [
    {
      "cell_type": "code",
      "execution_count": null,
      "metadata": {
        "id": "4fcb3bde"
      },
      "outputs": [],
      "source": [
        "# Importing py modules\n",
        "from scipy import io\n",
        "import numpy as np\n",
        "\n",
        "import matplotlib.pyplot as plt\n",
        "\n",
        "import time\n",
        "\n",
        "# Setting plot style\n",
        "plt.style.use(\"bmh\")\n",
        "\n",
        "from sklearn.preprocessing import PolynomialFeatures\n",
        "from sklearn.linear_model import Ridge, LinearRegression\n",
        "from sklearn.decomposition import PCA\n",
        "\n",
        "from tqdm import tqdm\n",
        "\n",
        "from matplotlib import cm"
      ],
      "id": "4fcb3bde"
    },
    {
      "cell_type": "code",
      "execution_count": null,
      "metadata": {
        "id": "2V8Ql_YschTK"
      },
      "outputs": [],
      "source": [
        "# Importing neural-tangents\n",
        "!pip install -q git+https://www.github.com/google/neural-tangents\n",
        "import neural_tangents as nt\n",
        "\n",
        "import dataclasses\n",
        "import functools\n",
        "from typing import Callable, Optional\n",
        "\n",
        "from jax.example_libraries import optimizers\n",
        "import jax\n",
        "import jax.config\n",
        "from jax.config import config as jax_config\n",
        "jax_config.update('jax_enable_x64', True) # for numerical stability, can disable if not an issue\n",
        "from jax import numpy as jnp\n",
        "from jax import scipy as sp\n",
        "import numpy as np\n",
        "!pip install tensorflow==2.15.0\n",
        "import tensorflow as tf\n",
        "import tensorflow_datasets as tfds\n",
        "\n",
        "import matplotlib.pyplot as plt\n",
        "%matplotlib inline\n",
        "\n",
        "from neural_tangents import stax\n"
      ],
      "id": "2V8Ql_YschTK"
    },
    {
      "cell_type": "code",
      "execution_count": null,
      "metadata": {
        "id": "Z6fW5aZ2gvjJ"
      },
      "outputs": [],
      "source": [
        "# Importing functions for Kernel regression from scikit-learn\n",
        "from sklearn.kernel_ridge import KernelRidge"
      ],
      "id": "Z6fW5aZ2gvjJ"
    },
    {
      "cell_type": "code",
      "source": [
        "# Define function families for the control functions in the mixed dataset\n",
        "# We solve the normalized problem, where t*=1, and t is the normalized time variable\n",
        "\n",
        "fun_1 = lambda u_0, t, t_0, dt, u_1: np.piecewise(t, [t <= t_0, (t > t_0) * (t <= t_0+0.33*dt), (t > t_0+0.3*dt) * (t <= t_0+dt+0.33*dt), (t > t_0+dt+0.33*dt)*(t <= t_0+dt+2*0.33*dt), t > t_0+dt+2*0.33*dt],[u_0, lambda t:u_0+ (u_1 - u_0)/(0.33*dt) * (t - t_0), u_1, lambda t: u_1 - (u_1 - u_0)/(0.33*dt) * (t - (t_0 + dt + 0.33*dt)), u_0 ])\n",
        "\n",
        "fun_2 = lambda u_0, t, t_0, dt, u_1: np.piecewise(t, [t <= t_0, t > t_0],[u_0, u_1])\n",
        "\n",
        "fun_3 = lambda u_0, t, t_0, dt, u_1: u_0/2 * (1 + 0.5 * cos(2*pi*t + dt * pi/2))\n",
        "\n",
        "fun_4 = lambda u_0, t, t_0, dt, u_1: np.piecewise(t, [t <= t_0, (t > t_0) * (t <= t_0+dt*0.5), (t > t_0+dt*0.5) * (t <= t_0+dt), t > t_0+dt],[u_0, u_1, u_0, u_1])\n"
      ],
      "metadata": {
        "colab": {
          "base_uri": "https://localhost:8080/",
          "height": 436
        },
        "id": "wBwDp4OMbucl",
        "outputId": "c46d9cff-8ab4-4f07-f395-91d3a29d201d"
      },
      "id": "wBwDp4OMbucl",
      "execution_count": null,
      "outputs": [
        {
          "output_type": "display_data",
          "data": {
            "text/plain": [
              "<Figure size 640x480 with 1 Axes>"
            ],
            "image/png": "[encoded data removed]"
          },
          "metadata": {}
        }
      ]
    },
    {
      "cell_type": "code",
      "source": [
        "# Model parameters for the generation of training data\n",
        "gamma = 0.05\n",
        "R0_base = 4\n",
        "gamma *= 100 # normalization\n",
        "\n",
        "beta = R0_base * gamma\n"
      ],
      "metadata": {
        "id": "fioR-xprxlD2"
      },
      "id": "fioR-xprxlD2",
      "execution_count": null,
      "outputs": []
    },
    {
      "cell_type": "code",
      "source": [
        "# Model function and defintion of parameters for the numerical simulations\n",
        "fun = lambda t, x, u_: np.array([- u_ * beta * x[0] * x[1] + gamma * x[1], u_ * beta * x[0] * x[1] - gamma * x[1]])\n",
        "\n",
        "n_steps = 100\n",
        "dt = 1 / n_steps\n"
      ],
      "metadata": {
        "id": "gx9q7OOjDSzG"
      },
      "id": "gx9q7OOjDSzG",
      "execution_count": null,
      "outputs": []
    },
    {
      "cell_type": "code",
      "execution_count": null,
      "metadata": {
        "id": "rhGLGMIRUNOD"
      },
      "outputs": [],
      "source": [
        "# Set seed for reproducibility of the results\n",
        "np.random.seed(7293)\n",
        "\n",
        "n_fun = 4\n",
        "nm = 500\n",
        "nm_test = 100\n",
        "\n",
        "dt = 1 / n_steps\n",
        "\n",
        "n_comp = 2 # number of compartments\n",
        "\n",
        "fun_list = [fun_1, fun_2, fun_3, fun_4]\n",
        "\n",
        "# Defining training dataset\n",
        "x_train = np.zeros((nm, n_steps))\n",
        "y_train = np.zeros((nm, n_steps + 1, n_comp))\n",
        "y_train[:,0, 0] = 0.99\n",
        "y_train[:,0, 1] = 0.01\n",
        "\n",
        "# Defining test dataset\n",
        "x_test  = np.zeros((nm_test, n_steps))\n",
        "y_test = np.zeros((nm_test, n_steps + 1, n_comp))\n",
        "y_test[:,0, 0] = 0.99\n",
        "y_test[:,0, 1] = 0.01\n",
        "\n",
        "t = np.linspace(0,1, n_steps)\n",
        "\n",
        "# Constructing training/test datasets\n",
        "for ii in range(n_fun):\n",
        "  u_0_test  = np.random.uniform(0.0,1, int(nm_test/n_fun))\n",
        "  u_1_test  = np.random.uniform(0.0,1, int(nm_test/n_fun))\n",
        "  dt_test   = np.random.uniform(0,0.3, int(nm_test/n_fun))\n",
        "  t_0_test  = np.random.uniform(0,1, int(nm_test/n_fun))\n",
        "\n",
        "  u_0_train = np.random.uniform(0.0,1, int(nm/n_fun))\n",
        "  u_1_train = np.random.uniform(0.0,1, int(nm/n_fun))\n",
        "  dt_train  = np.random.uniform(0,0.3, int(nm/n_fun))\n",
        "  t_0_train = np.random.uniform(0,1, int(nm/n_fun))\n",
        "\n",
        "  for k in range(int(nm/n_fun)):\n",
        "      x_train[ii * int(nm/n_fun) + k, :] = fun_list[ii](u_0_train[k], t, t_0_train[k], dt_train[k], u_1_train[k])\n",
        "      for j in range(y_train.shape[1]-1):\n",
        "        y_train[ii * int(nm/n_fun) + k, j+1, : ]  = y_train[ii * int(nm/n_fun) + k, j,:] + dt * fun(t[j], y_train[ii * int(nm/n_fun) + k,j,:], x_train[ii * int(nm/n_fun) + k,j])\n",
        "  for k in range(int(nm_test/n_fun)):\n",
        "      x_test[ii * int(nm_test/n_fun) + k, :] = fun_list[ii](u_0_test[k], t, t_0_test[k], dt_test[k], u_1_test[k])\n",
        "      for j in range(y_test.shape[1]-1):\n",
        "        y_test[ii * int(nm_test/n_fun) + k, j+1,: ]  = y_test[ii * int(nm_test/n_fun)+ k, j,:] + dt * fun(t[j], y_test[ii * int(nm_test/n_fun)+ k,j,:], x_test[ii * int(nm_test/n_fun)+ k,j])\n"
      ],
      "id": "rhGLGMIRUNOD"
    },
    {
      "cell_type": "code",
      "source": [
        "# Reshaping labels for comaptibility with KOL\n",
        "y_train = y_train.transpose((0, 2, 1)).reshape(y_train.shape[-3], -1).copy()\n",
        "y_test = y_test.transpose((0, 2, 1)).reshape(y_test.shape[-3], -1).copy()"
      ],
      "metadata": {
        "id": "dPsK84fJJCde"
      },
      "id": "dPsK84fJJCde",
      "execution_count": null,
      "outputs": []
    },
    {
      "cell_type": "code",
      "source": [
        "# Saving datasets\n",
        "np.savetxt('x_train_sird.csv', x_train, delimiter=',')\n",
        "np.savetxt('y_train_sird.csv', y_train, delimiter=',')\n",
        "np.savetxt('x_test_sird.csv', x_test, delimiter=',')\n",
        "np.savetxt('y_test_sird.csv', y_test, delimiter=',')"
      ],
      "metadata": {
        "id": "8MkAqNr5NoXF"
      },
      "id": "8MkAqNr5NoXF",
      "execution_count": null,
      "outputs": []
    },
    {
      "cell_type": "markdown",
      "source": [
        "# **RIDGE REGRESSION**"
      ],
      "metadata": {
        "id": "JBwgXD8DX6Bf"
      },
      "id": "JBwgXD8DX6Bf"
    },
    {
      "cell_type": "code",
      "source": [
        "def train_test(x_train, x_test, y_train, y_test, n_pca, model):\n",
        "    # Compute the PCA decoposition\n",
        "    pca = PCA(n_components=n_pca)\n",
        "    x_train_pca = pca.fit_transform(x_train)\n",
        "    x_test_pca = pca.transform(x_test)\n",
        "\n",
        "\n",
        "    model.fit(x_train_pca, y_train)\n",
        "    pred= model.predict(x_test_pca)\n",
        "\n",
        "    return pred, model"
      ],
      "metadata": {
        "id": "0qVyI5AqXH4N"
      },
      "execution_count": null,
      "outputs": [],
      "id": "0qVyI5AqXH4N"
    },
    {
      "cell_type": "code",
      "source": [
        "model = Ridge(alpha = 1e-10)"
      ],
      "metadata": {
        "id": "sO0JJOfgXPD7"
      },
      "execution_count": null,
      "outputs": [],
      "id": "sO0JJOfgXPD7"
    },
    {
      "cell_type": "code",
      "source": [
        "# Computing PCA of inner dataset\n",
        "pca = PCA(n_components=min(y_train.shape))\n",
        "\n",
        "x_train_pca = pca.fit_transform(x_train)\n",
        "x_test_pca = pca.transform(x_test)\n",
        "\n",
        "plt.plot(np.cumsum(pca.explained_variance_ratio_))\n",
        "plt.show()\n",
        "\n",
        "np.where(np.cumsum(pca.explained_variance_ratio_) > 0.95)[0][0]"
      ],
      "metadata": {
        "id": "SmpLwSIpXSbr"
      },
      "execution_count": null,
      "outputs": [],
      "id": "SmpLwSIpXSbr"
    },
    {
      "cell_type": "code",
      "source": [
        "pca_modes = np.arange(1, min(x_train.shape))\n",
        "errors = []\n",
        "for n_pca in pca_modes:\n",
        "    pred, model = train_test(x_train, x_test, y_train, y_test, n_pca, model)\n",
        "    e = np.mean(np.linalg.norm(pred - y_test, axis = -1)/np.linalg.norm(y_test, axis = -1))\n",
        "    errors.append(e)"
      ],
      "metadata": {
        "id": "iFEsccEoXYWX"
      },
      "execution_count": null,
      "outputs": [],
      "id": "iFEsccEoXYWX"
    },
    {
      "cell_type": "code",
      "source": [
        "n_pca = pca_modes[best]\n",
        "\n",
        "pred, model = train_test(x_train, x_test, y_train, y_test, n_pca, model)\n",
        "e = np.mean(np.linalg.norm(pred - y_test, axis = -1)/np.linalg.norm(y_test, axis = -1))\n",
        "\n",
        "e"
      ],
      "metadata": {
        "id": "vcW_oCnkXht9"
      },
      "execution_count": null,
      "outputs": [],
      "id": "vcW_oCnkXht9"
    },
    {
      "cell_type": "markdown",
      "metadata": {
        "id": "GW1oqxEgcatO"
      },
      "source": [
        "# **Neural Tangent Kernel (NTK) Regression**"
      ],
      "id": "GW1oqxEgcatO"
    },
    {
      "cell_type": "code",
      "execution_count": null,
      "metadata": {
        "id": "5orOwMOTdBKA"
      },
      "outputs": [],
      "source": [
        "from jax import jit\n",
        "from neural_tangents import stax\n",
        "import neural_tangents as nt\n",
        "import random\n",
        "\n",
        "# Defintion of the underlying neural network\n",
        "_, _, kernel_fn = stax.serial(\n",
        "        stax.Dense(100, 1., 0.5),\n",
        "        stax.Sigmoid_like(),#Relu(),\n",
        "        stax.Dense(100, 1., 0.5),\n",
        "        stax.Sigmoid_like(),#Relu(),\n",
        "        stax.Dense(1, 1., 0.5)\n",
        "        )\n",
        "kernel_fn = jit(kernel_fn, static_argnums=(2,))"
      ],
      "id": "5orOwMOTdBKA"
    },
    {
      "cell_type": "code",
      "execution_count": null,
      "metadata": {
        "id": "_wCvmfvpdCR3"
      },
      "outputs": [],
      "source": [
        "# Auxiliary functions for computing NTK\n",
        "def generate_ntk(X, Y):\n",
        "    if X.ndim == 1:\n",
        "      X = X[None,:]\n",
        "    if Y.ndim == 1:\n",
        "      Y = Y[None,:]\n",
        "    n = X.shape[0]\n",
        "    m = Y.shape[0]\n",
        "    K = np.zeros((n, m))\n",
        "\n",
        "    for i in range(m):\n",
        "\n",
        "      k = np.array(kernel_fn(X, Y[i:i + 1], 'ntk'))\n",
        "\n",
        "      if k.ndim == 0:\n",
        "        K[:, i:i + 1] = k\n",
        "      else:\n",
        "        K[:, i:i + 1] = k.reshape((k.shape[0],1))\n",
        "    return K\n",
        "\n",
        "proxy_kernel_fn = lambda x, y: generate_ntk(x,y)"
      ],
      "id": "_wCvmfvpdCR3"
    },
    {
      "cell_type": "code",
      "execution_count": null,
      "metadata": {
        "id": "ae-B637JdSW1"
      },
      "outputs": [],
      "source": [
        "# Definition of the Kernel Regressor\n",
        "from sklearn.gaussian_process import GaussianProcessRegressor\n",
        "model = KernelRidge(alpha = 1e-10, kernel=proxy_kernel_fn)"
      ],
      "id": "ae-B637JdSW1"
    },
    {
      "cell_type": "code",
      "execution_count": null,
      "metadata": {
        "id": "83c57834"
      },
      "outputs": [],
      "source": [
        "def train_test(x_train, x_test, y_train, y_test, model):\n",
        "\n",
        "    model.fit(x_train, y_train)\n",
        "    pred= model.predict(x_test)\n",
        "\n",
        "    return pred, model"
      ],
      "id": "83c57834"
    },
    {
      "cell_type": "code",
      "execution_count": null,
      "metadata": {
        "id": "KxLYYR9Tz2tl"
      },
      "outputs": [],
      "source": [
        "pca_modes = [min(y_train.shape)]\n",
        "errors = []\n",
        "for n_pca in pca_modes:\n",
        "    start_time = time.time()\n",
        "    pred, model = train_test(x_train_pca[:, :n_pca], x_test_pca[:, :n_pca], y_train, y_test,model)\n",
        "    e = np.mean(np.linalg.norm(pred - y_test, axis = -1)/np.linalg.norm(y_test, axis = -1))\n",
        "    end_time = time.time()\n",
        "    errors.append(e)\n",
        "plt.figure()\n",
        "plt.plot(pca_modes,errors, '-go')\n",
        "plt.yscale('log')\n",
        "plt.title(\"Error as a function of training size\")\n",
        "plt.show()"
      ],
      "id": "KxLYYR9Tz2tl"
    },
    {
      "cell_type": "code",
      "source": [
        "print('Generalization error: ',errors)\n",
        "print('Time (s): ', end_time-start_time)"
      ],
      "metadata": {
        "id": "hedttxofU5Xw"
      },
      "id": "hedttxofU5Xw",
      "execution_count": null,
      "outputs": []
    },
    {
      "cell_type": "markdown",
      "metadata": {
        "id": "aeb4a661"
      },
      "source": [
        "# **Gaussian kernels: Matérn, RBF, Rational Quadratic**"
      ],
      "id": "aeb4a661"
    },
    {
      "cell_type": "code",
      "execution_count": null,
      "metadata": {
        "id": "8177c435"
      },
      "outputs": [],
      "source": [
        "from sklearn.gaussian_process import GaussianProcessRegressor\n",
        "from sklearn.gaussian_process.kernels import Matern, RBF, RationalQuadratic"
      ],
      "id": "8177c435"
    },
    {
      "cell_type": "code",
      "execution_count": null,
      "metadata": {
        "id": "2685c4f7"
      },
      "outputs": [],
      "source": [
        "# Choose the kernels and the parameters\n",
        "kernel = Matern(nu =0.2)\n",
        "#kernel = RBF()\n",
        "#kernel = RationalQuadratic(0.2, alpha=0.5)\n",
        "\n",
        "model = GaussianProcessRegressor(kernel, alpha = 1e-10)"
      ],
      "id": "2685c4f7"
    },
    {
      "cell_type": "code",
      "execution_count": null,
      "metadata": {
        "id": "6836a819"
      },
      "outputs": [],
      "source": [
        "pca = PCA(n_components=min(x_train.shape))\n",
        "\n",
        "x_train_pca = pca.fit_transform(x_train)\n",
        "x_test_pca = pca.transform(x_test)\n",
        "\n",
        "\n",
        "plt.plot(np.cumsum(pca.explained_variance_ratio_))\n",
        "plt.show()\n",
        "\n",
        "n_pca = np.where(np.cumsum(pca.explained_variance_ratio_) >= 0.99)[0][0]\n",
        "n_pca"
      ],
      "id": "6836a819"
    },
    {
      "cell_type": "code",
      "execution_count": null,
      "metadata": {
        "id": "6f37911c"
      },
      "outputs": [],
      "source": [
        "pred, model = train_test(x_train_pca[:, :n_pca], x_test_pca[:, :n_pca], y_train, y_test,model)\n",
        "e = np.mean(np.linalg.norm(pred - y_test, axis = -1)/np.linalg.norm(y_test, axis = -1))\n",
        "\n",
        "e, model"
      ],
      "id": "6f37911c"
    }
  ],
  "metadata": {
    "colab": {
      "provenance": []
    },
    "kernelspec": {
      "display_name": "Python 3 (ipykernel)",
      "language": "python",
      "name": "python3"
    },
    "language_info": {
      "codemirror_mode": {
        "name": "ipython",
        "version": 3
      },
      "file_extension": ".py",
      "mimetype": "text/x-python",
      "name": "python",
      "nbconvert_exporter": "python",
      "pygments_lexer": "ipython3",
      "version": "3.9.12"
    }
  },
  "nbformat": 4,
  "nbformat_minor": 5
}